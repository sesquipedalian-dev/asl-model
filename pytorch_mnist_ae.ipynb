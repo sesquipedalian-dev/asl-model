{
 "cells": [
  {
   "cell_type": "code",
   "execution_count": 4,
   "metadata": {},
   "outputs": [],
   "source": [
    "import torch\n",
    "import torchvision\n",
    "import torchvision.transforms as transforms\n",
    "from matplotlib import pyplot as plt\n",
    "import numpy as np\n",
    "use_cuda = torch.cuda.is_available()\n",
    "device = torch.device(\"cuda\" if use_cuda else \"cpu\")"
   ]
  },
  {
   "cell_type": "code",
   "execution_count": 38,
   "metadata": {},
   "outputs": [],
   "source": [
    "transform = transforms.Compose(\n",
    "    [transforms.ToTensor(), \n",
    "     transforms.Normalize((0.1307,), (0.3081,))])\n",
    "\n",
    "trainset = torchvision.datasets.MNIST(root='./data', train=True, download=True, transform=transform)\n",
    "trainloader = torch.utils.data.DataLoader(trainset, batch_size=40,\n",
    "                                          shuffle=True, num_workers=2)\n",
    "\n",
    "testset = torchvision.datasets.MNIST(root='./data', train=False, download=True, transform=transform)\n",
    "testloader = torch.utils.data.DataLoader(testset, batch_size=40,\n",
    "                                         shuffle=False, num_workers=2)\n",
    "\n",
    "\n",
    "classes = ('0', '1', '2', '3', '4', '5', '6', '7', '8', '9')\n"
   ]
  },
  {
   "cell_type": "code",
   "execution_count": 31,
   "metadata": {},
   "outputs": [
    {
     "name": "stderr",
     "output_type": "stream",
     "text": [
      "Clipping input data to the valid range for imshow with RGB data ([0..1] for floats or [0..255] for integers).\n"
     ]
    },
    {
     "data": {
      "image/png": "[encoded data removed]",
      "text/plain": [
       "<Figure size 432x288 with 1 Axes>"
      ]
     },
     "metadata": {
      "needs_background": "light"
     },
     "output_type": "display_data"
    },
    {
     "name": "stdout",
     "output_type": "stream",
     "text": [
      "    2     9     1     4\n"
     ]
    }
   ],
   "source": [
    "\n",
    "def imshow(img):\n",
    "    img = img / 2 + 0.5     # unnormalize\n",
    "    npimg = img.numpy()\n",
    "    plt.imshow(np.transpose(npimg, (1, 2, 0)))\n",
    "    plt.show()\n",
    "\n",
    "\n",
    "# get some random training images\n",
    "dataiter = iter(trainloader)\n",
    "images, labels = dataiter.next()\n",
    "\n",
    "# show images\n",
    "imshow(torchvision.utils.make_grid(images))\n",
    "print(' '.join('%5s' % classes[labels[j]] for j in range(4)))"
   ]
  },
  {
   "cell_type": "markdown",
   "metadata": {},
   "source": [
    "## Make model\n",
    "Define CNN "
   ]
  },
  {
   "cell_type": "code",
   "execution_count": 44,
   "metadata": {},
   "outputs": [],
   "source": [
    "import torch.nn as nn\n",
    "import torch.nn.functional as F\n",
    "\n",
    "torch.manual_seed(42)\n",
    "\n",
    "class Encoder(nn.Module):\n",
    "    def __init__(self):\n",
    "        super(Encoder, self).__init__()\n",
    "        self.conv1 = nn.Conv2d(1, 10, kernel_size=3, stride=1, padding=1)\n",
    "        self.conv2 = nn.Conv2d(10, 10, kernel_size=3, stride=1, padding=1)\n",
    "        self.conv3 = nn.Conv2d(10, 20, kernel_size=3, stride=1, padding=1)\n",
    "        self.conv4 = nn.Conv2d(20, 20, kernel_size=3, stride=1, padding=1)\n",
    "        self.pool = nn.MaxPool2d(2, 2, return_indices=True)\n",
    "        self.fc1 = nn.Linear(20 * 7 * 7, 500)\n",
    "        self.fc2 = nn.Linear(500, 250)\n",
    "        self.fc3 = nn.Linear(250, 100)\n",
    "\n",
    "    def forward(self, x):\n",
    "        # start 1 x 28 x 28\n",
    "        \n",
    "        x = F.relu(self.conv1(x))\n",
    "        x = F.relu(self.conv2(x))\n",
    "        x, pool_indices_1 = self.pool(x)\n",
    "        # now 10 x 14 x 14\n",
    "        \n",
    "        x = F.relu(self.conv3(x))\n",
    "        x = F.relu(self.conv4(x))\n",
    "        x, pool_indices_2 = self.pool(x)\n",
    "        # now 20 x 7 x 7)\n",
    "        \n",
    "        x = x.view(-1, 20 * 7 * 7)\n",
    "        x = F.relu(self.fc1(x))\n",
    "        # now 1 x 500\n",
    "        \n",
    "        x = F.relu(self.fc2(x))\n",
    "        # now 1 x 250 \n",
    "        \n",
    "        x = self.fc3(x)\n",
    "        # now 1 x 100\n",
    "        \n",
    "        return x, pool_indices_1, pool_indices_2\n",
    "\n",
    "class Decoder(nn.Module): \n",
    "    def __init__(self): \n",
    "        super(Decoder, self).__init__()\n",
    "        self.fc1 = nn.Linear(100, 250)\n",
    "        self.fc2 = nn.Linear(250, 500)\n",
    "        self.fc3 = nn.Linear(500, 20 * 7 * 7)\n",
    "        self.conv1 = nn.ConvTranspose2d(20, 20, kernel_size=3, stride=1, padding=1)\n",
    "        self.conv2 = nn.ConvTranspose2d(20, 10, kernel_size=3, stride=1, padding=1)\n",
    "        self.conv3 = nn.ConvTranspose2d(10, 10, kernel_size=3, stride=1, padding=1)\n",
    "        self.conv4 = nn.ConvTranspose2d(10, 1, kernel_size=3, stride=1, padding=1)\n",
    "        self.pool = nn.MaxUnpool2d(2, 2)\n",
    "        self.sigmoid = nn.Sigmoid()\n",
    "        \n",
    "    def forward(self, x, pool_indices_1, pool_indices_2): \n",
    "        # start 100\n",
    "        \n",
    "        x = self.fc1(x)\n",
    "        # now 250\n",
    "        \n",
    "        x = F.relu(self.fc2(x))\n",
    "        # now 500\n",
    "        \n",
    "        x = F.relu(self.fc3(x))\n",
    "        # now 20 * 7 * 7\n",
    "        \n",
    "        x = x.view(-1, 20, 7, 7)\n",
    "        # now 20 x 7 x 7\n",
    "        \n",
    "        x = self.pool(x, pool_indices_2)\n",
    "        x = F.relu(self.conv1(x))\n",
    "        x = F.relu(self.conv2(x))\n",
    "        # now 10 x 14 x 14\n",
    "        \n",
    "        x = self.pool(x, pool_indices_1)\n",
    "        x = F.relu(self.conv3(x))\n",
    "        x = F.relu(self.conv4(x))\n",
    "        # now 1 x 28 x 28\n",
    "        \n",
    "        x = self.sigmoid(x)\n",
    "        return x\n",
    "    \n",
    "class Net(nn.Module):\n",
    "    def __init__(self):\n",
    "        super(Net, self).__init__()\n",
    "        self.encoder = Encoder()\n",
    "        self.decoder = Decoder()\n",
    "    \n",
    "    def forward(self, x):\n",
    "        x, pool_1, pool_2 = self.encoder(x)\n",
    "        x = self.decoder(x, pool_1, pool_2)\n",
    "        return x\n",
    "    \n",
    "net = Net().to(device)"
   ]
  },
  {
   "cell_type": "markdown",
   "metadata": {},
   "source": [
    "loss function\n"
   ]
  },
  {
   "cell_type": "code",
   "execution_count": 45,
   "metadata": {},
   "outputs": [],
   "source": [
    "import torch.optim as optim\n",
    "\n",
    "criterion = nn.MSELoss()\n",
    "# optimizer = optim.SGD(net.parameters(), lr=0.001, momentum=0.9)\n",
    "optimizer = torch.optim.Adam(net.parameters(), lr=0.001,\n",
    "                             weight_decay=1e-5)"
   ]
  },
  {
   "cell_type": "markdown",
   "metadata": {},
   "source": [
    "training procedure"
   ]
  },
  {
   "cell_type": "code",
   "execution_count": 49,
   "metadata": {},
   "outputs": [
    {
     "name": "stdout",
     "output_type": "stream",
     "text": [
      "[1,    50] loss: 1.035 time: 0.008\n",
      "[1,   100] loss: 1.034 time: 0.007\n",
      "[1,   150] loss: 1.038 time: 0.007\n",
      "[1,   200] loss: 1.029 time: 0.007\n",
      "[1,   250] loss: 1.036 time: 0.007\n",
      "[1,   300] loss: 1.032 time: 0.007\n",
      "[1,   350] loss: 1.033 time: 0.007\n",
      "[1,   400] loss: 1.036 time: 0.007\n",
      "[1,   450] loss: 1.034 time: 0.007\n",
      "[1,   500] loss: 1.032 time: 0.007\n",
      "[1,   550] loss: 1.036 time: 0.007\n",
      "[1,   600] loss: 1.034 time: 0.007\n",
      "[1,   650] loss: 1.032 time: 0.007\n",
      "[1,   700] loss: 1.029 time: 0.007\n",
      "[1,   750] loss: 1.032 time: 0.007\n",
      "[1,   800] loss: 1.032 time: 0.007\n",
      "[1,   850] loss: 1.031 time: 0.007\n",
      "[1,   900] loss: 1.033 time: 0.007\n",
      "[1,   950] loss: 1.043 time: 0.007\n",
      "[1,  1000] loss: 1.035 time: 0.007\n",
      "[1,  1050] loss: 1.038 time: 0.007\n",
      "[1,  1100] loss: 1.032 time: 0.007\n",
      "[1,  1150] loss: 1.034 time: 0.007\n",
      "[1,  1200] loss: 1.037 time: 0.007\n",
      "[1,  1250] loss: 1.037 time: 0.007\n",
      "[1,  1300] loss: 1.053 time: 0.007\n",
      "[1,  1350] loss: 1.040 time: 0.007\n",
      "[1,  1400] loss: 1.041 time: 0.007\n",
      "[1,  1450] loss: 1.038 time: 0.007\n",
      "[1,  1500] loss: 1.040 time: 0.007\n",
      "[2,    50] loss: 1.039 time: 0.008\n",
      "[2,   100] loss: 1.036 time: 0.007\n",
      "[2,   150] loss: 1.041 time: 0.007\n",
      "[2,   200] loss: 1.034 time: 0.007\n",
      "[2,   250] loss: 1.035 time: 0.007\n",
      "[2,   300] loss: 1.034 time: 0.007\n",
      "[2,   350] loss: 1.034 time: 0.007\n",
      "[2,   400] loss: 1.035 time: 0.007\n",
      "[2,   450] loss: 1.035 time: 0.007\n",
      "[2,   500] loss: 1.031 time: 0.007\n",
      "[2,   550] loss: 1.039 time: 0.007\n",
      "[2,   600] loss: 1.035 time: 0.007\n",
      "[2,   650] loss: 1.034 time: 0.007\n",
      "[2,   700] loss: 1.039 time: 0.007\n",
      "[2,   750] loss: 1.034 time: 0.007\n",
      "[2,   800] loss: 1.036 time: 0.007\n",
      "[2,   850] loss: 1.034 time: 0.007\n",
      "[2,   900] loss: 1.036 time: 0.007\n",
      "[2,   950] loss: 1.035 time: 0.007\n",
      "[2,  1000] loss: 1.038 time: 0.007\n",
      "[2,  1050] loss: 1.040 time: 0.007\n",
      "[2,  1100] loss: 1.038 time: 0.007\n",
      "[2,  1150] loss: 1.035 time: 0.007\n",
      "[2,  1200] loss: 1.036 time: 0.006\n",
      "[2,  1250] loss: 1.035 time: 0.007\n",
      "[2,  1300] loss: 1.034 time: 0.007\n",
      "[2,  1350] loss: 1.036 time: 0.006\n",
      "[2,  1400] loss: 1.039 time: 0.006\n",
      "[2,  1450] loss: 1.033 time: 0.006\n",
      "[2,  1500] loss: 1.036 time: 0.006\n",
      "Finished Training\n"
     ]
    }
   ],
   "source": [
    "from datetime import datetime\n",
    "last_print = datetime.now()\n",
    "\n",
    "for epoch in range(2):  # loop over the dataset multiple times\n",
    "\n",
    "    running_loss = 0.0\n",
    "    for i, data in enumerate(trainloader, 0):\n",
    "        # get the inputs; data is a list of [inputs, labels]\n",
    "        inputs, _ = data\n",
    "        inputs = inputs.to(device)\n",
    "\n",
    "        # zero the parameter gradients\n",
    "        optimizer.zero_grad()\n",
    "\n",
    "        # forward + backward + optimize\n",
    "        outputs = net(inputs)\n",
    "        loss = criterion(outputs, inputs)\n",
    "        loss.backward()\n",
    "        optimizer.step()\n",
    "\n",
    "        # print statistics\n",
    "        running_loss += loss.item()\n",
    "        if i % 500 == 499:    # print every 49 mini-batches\n",
    "            now = datetime.now()\n",
    "            elapsed = now - last_print\n",
    "            last_print = now\n",
    "            \n",
    "            print('[%d, %5d] loss: %.3f time: %.3f' %\n",
    "                  (epoch + 1, i + 1, running_loss / 500, elapsed.total_seconds() / 60))\n",
    "            running_loss = 0.0\n",
    "\n",
    "print('Finished Training')"
   ]
  },
  {
   "cell_type": "code",
   "execution_count": 50,
   "metadata": {},
   "outputs": [
    {
     "name": "stderr",
     "output_type": "stream",
     "text": [
      "Clipping input data to the valid range for imshow with RGB data ([0..1] for floats or [0..255] for integers).\n"
     ]
    },
    {
     "name": "stdout",
     "output_type": "stream",
     "text": [
      "ACTUAL:\n"
     ]
    },
    {
     "data": {
      "image/png": "[encoded data removed]",
      "text/plain": [
       "<Figure size 432x288 with 1 Axes>"
      ]
     },
     "metadata": {
      "needs_background": "light"
     },
     "output_type": "display_data"
    },
    {
     "name": "stdout",
     "output_type": "stream",
     "text": [
      "PREDICTED / GENERATED:\n"
     ]
    },
    {
     "data": {
      "image/png": "[encoded data removed]",
      "text/plain": [
       "<Figure size 432x288 with 1 Axes>"
      ]
     },
     "metadata": {
      "needs_background": "light"
     },
     "output_type": "display_data"
    }
   ],
   "source": [
    "dataiter = iter(testloader)\n",
    "images, labels = dataiter.next()\n",
    "outputs = net(images.to(device)).to(\"cpu\").detach()\n",
    "\n",
    "# print(images[0])\n",
    "# print(outputs[0])\n",
    "print(\"ACTUAL:\")\n",
    "imshow(torchvision.utils.make_grid(images))\n",
    "\n",
    "print(\"PREDICTED / GENERATED:\") \n",
    "imshow(torchvision.utils.make_grid(outputs))"
   ]
  },
  {
   "cell_type": "code",
   "execution_count": null,
   "metadata": {},
   "outputs": [],
   "source": []
  }
 ],
 "metadata": {
  "kernelspec": {
   "display_name": "Python 3",
   "language": "python",
   "name": "python3"
  },
  "language_info": {
   "codemirror_mode": {
    "name": "ipython",
    "version": 3
   },
   "file_extension": ".py",
   "mimetype": "text/x-python",
   "name": "python",
   "nbconvert_exporter": "python",
   "pygments_lexer": "ipython3",
   "version": "3.7.0"
  }
 },
 "nbformat": 4,
 "nbformat_minor": 2
}
